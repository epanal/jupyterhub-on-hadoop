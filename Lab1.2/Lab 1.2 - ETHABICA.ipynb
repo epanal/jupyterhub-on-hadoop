{
 "cells": [
  {
   "cell_type": "markdown",
   "metadata": {},
   "source": [
    "# Test 1"
   ]
  },
  {
   "cell_type": "code",
   "execution_count": 1,
   "metadata": {},
   "outputs": [
    {
     "name": "stderr",
     "output_type": "stream",
     "text": [
      "Matplotlib created a temporary config/cache directory at /tmp/matplotlib-390ygbbk because the default path (/home/.config/matplotlib) is not a writable directory; it is highly recommended to set the MPLCONFIGDIR environment variable to a writable directory, in particular to speed up the import of Matplotlib and to better support multiprocessing.\n"
     ]
    },
    {
     "data": {
      "text/plain": [
       "<Figure size 640x480 with 1 Axes>"
      ]
     },
     "metadata": {},
     "output_type": "display_data"
    }
   ],
   "source": [
    "#%%timeit\n",
    "import matplotlib.pyplot as plt\n",
    "# Sample data\n",
    "x = [1, 2, 3, 4, 5]\n",
    "y = [10, 20, 25, 30, 40]\n",
    "# Create a line plot\n",
    "plt.plot(x, y)\n",
    "plt.title('Simple Plot')\n",
    "plt.xlabel('X-axis')\n",
    "plt.ylabel('Y-axis')\n",
    "plt.show()\n"
   ]
  },
  {
   "cell_type": "markdown",
   "metadata": {},
   "source": [
    "# Test 2"
   ]
  },
  {
   "cell_type": "code",
   "execution_count": 2,
   "metadata": {},
   "outputs": [
    {
     "data": {
      "text/html": [
       "<div>\n",
       "<style scoped>\n",
       "    .dataframe tbody tr th:only-of-type {\n",
       "        vertical-align: middle;\n",
       "    }\n",
       "\n",
       "    .dataframe tbody tr th {\n",
       "        vertical-align: top;\n",
       "    }\n",
       "\n",
       "    .dataframe thead th {\n",
       "        text-align: right;\n",
       "    }\n",
       "</style>\n",
       "<table border=\"1\" class=\"dataframe\">\n",
       "  <thead>\n",
       "    <tr style=\"text-align: right;\">\n",
       "      <th></th>\n",
       "      <th>Name</th>\n",
       "      <th>Age</th>\n",
       "      <th>Location</th>\n",
       "    </tr>\n",
       "  </thead>\n",
       "  <tbody>\n",
       "    <tr>\n",
       "      <th>0</th>\n",
       "      <td>Alice</td>\n",
       "      <td>24</td>\n",
       "      <td>New York</td>\n",
       "    </tr>\n",
       "    <tr>\n",
       "      <th>1</th>\n",
       "      <td>Bob</td>\n",
       "      <td>27</td>\n",
       "      <td>Los Angeles</td>\n",
       "    </tr>\n",
       "    <tr>\n",
       "      <th>2</th>\n",
       "      <td>Charlie</td>\n",
       "      <td>22</td>\n",
       "      <td>Chicago</td>\n",
       "    </tr>\n",
       "  </tbody>\n",
       "</table>\n",
       "</div>"
      ],
      "text/plain": [
       "      Name  Age     Location\n",
       "0    Alice   24     New York\n",
       "1      Bob   27  Los Angeles\n",
       "2  Charlie   22      Chicago"
      ]
     },
     "execution_count": 2,
     "metadata": {},
     "output_type": "execute_result"
    }
   ],
   "source": [
    "#%%timeit \n",
    "\n",
    "import pandas as pd\n",
    "\n",
    "# Create a simple DataFrame\n",
    "data = {'Name': ['Alice', 'Bob', 'Charlie'],\n",
    "        'Age': [24, 27, 22],\n",
    "        'Location': ['New York', 'Los Angeles', 'Chicago']}\n",
    "df = pd.DataFrame(data)\n",
    "\n",
    "# Display the DataFrame\n",
    "df"
   ]
  },
  {
   "cell_type": "markdown",
   "metadata": {},
   "source": [
    "# Test 3"
   ]
  },
  {
   "cell_type": "code",
   "execution_count": 3,
   "metadata": {},
   "outputs": [
    {
     "name": "stdout",
     "output_type": "stream",
     "text": [
      "in: 1\n",
      "a: 4\n",
      "faraway: 1\n",
      "land: 1\n",
      "there: 1\n",
      "was: 3\n",
      "peaceful: 1\n",
      "village: 2\n",
      "the: 3\n",
      "villagers: 1\n",
      "were: 1\n",
      "kindhearted: 1\n",
      "people: 1\n",
      "who: 1\n",
      "helped: 1\n",
      "one: 2\n",
      "another: 1\n",
      "they: 1\n",
      "lived: 1\n",
      "simple: 1\n",
      "lives: 1\n",
      "and: 2\n",
      "celebrated: 1\n",
      "every: 1\n",
      "day: 2\n",
      "as: 1\n",
      "if: 1\n",
      "it: 1\n",
      "special: 1\n",
      "occasion: 1\n",
      "but: 1\n",
      "storm: 1\n",
      "came: 1\n",
      "peace: 1\n",
      "of: 1\n",
      "shattered: 1\n"
     ]
    },
    {
     "data": {
      "image/png": "[encoded data removed]",
      "text/plain": [
       "<Figure size 720x432 with 1 Axes>"
      ]
     },
     "metadata": {
      "needs_background": "light"
     },
     "output_type": "display_data"
    }
   ],
   "source": [
    "#%%timeit\n",
    "\n",
    "from collections import Counter\n",
    "import string\n",
    "import matplotlib.pyplot as plt\n",
    "\n",
    "# Step 1: Input the text (this could be replaced with a file input)\n",
    "text = \"\"\"\n",
    "In a faraway land, there was a peaceful village. The villagers were kind-hearted people who helped one another. They lived simple lives and celebrated every day as if it was a special occasion. But one day, a storm came, and the peace of the village was shattered.\n",
    "\"\"\"\n",
    "\n",
    "# Step 2: Clean the text\n",
    "def clean_text(text):\n",
    "    # Convert to lowercase\n",
    "    text = text.lower()\n",
    "    # Remove punctuation\n",
    "    text = text.translate(str.maketrans('', '', string.punctuation))\n",
    "    return text\n",
    "\n",
    "cleaned_text = clean_text(text)\n",
    "\n",
    "# Step 3: Split the text into words and count them\n",
    "words = cleaned_text.split()\n",
    "word_count = Counter(words)\n",
    "\n",
    "# Step 4: Display the word counts\n",
    "for word, count in word_count.items():\n",
    "    print(f\"{word}: {count}\")\n",
    "\n",
    "# Step 5: Visualize the word counts using a bar chart\n",
    "# Sort by frequency for better visualization\n",
    "most_common_words = word_count.most_common(10)  # Show top 10 words\n",
    "words, counts = zip(*most_common_words)\n",
    "\n",
    "plt.figure(figsize=(10, 6))\n",
    "plt.bar(words, counts, color='skyblue')\n",
    "plt.title('Top 10 Most Common Words')\n",
    "plt.xlabel('Words')\n",
    "plt.ylabel('Counts')\n",
    "plt.xticks(rotation=45)\n",
    "plt.show()"
   ]
  },
  {
   "cell_type": "markdown",
   "metadata": {},
   "source": [
    "# Test 4"
   ]
  },
  {
   "cell_type": "code",
   "execution_count": 4,
   "metadata": {},
   "outputs": [
    {
     "name": "stdout",
     "output_type": "stream",
     "text": [
      "land,: 1\n",
      "there: 1\n",
      "was: 3\n",
      "The: 1\n",
      "villagers: 1\n",
      "kind-hearted: 1\n",
      "another.: 1\n",
      "They: 1\n",
      "lived: 1\n",
      "simple: 1\n",
      "celebrated: 1\n",
      "as: 1\n",
      "occasion.: 1\n",
      "But: 1\n",
      "storm: 1\n",
      "peace: 1\n",
      "of: 1\n",
      "In: 1\n",
      "a: 4\n",
      "faraway: 1\n",
      "peaceful: 1\n",
      "village.: 1\n",
      "were: 1\n",
      "people: 1\n",
      "who: 1\n",
      "helped: 1\n",
      "one: 2\n",
      "lives: 1\n",
      "and: 2\n",
      "every: 1\n",
      "day: 1\n",
      "if: 1\n",
      "it: 1\n",
      "special: 1\n",
      "day,: 1\n",
      "came,: 1\n",
      "the: 2\n",
      "village: 1\n",
      "shattered.: 1\n"
     ]
    }
   ],
   "source": [
    "#%%timeit\n",
    "from pyspark import SparkContext\n",
    "from pyspark.sql import SparkSession\n",
    "# Initialize Spark\n",
    "spark = SparkSession.builder.appName(\"WordCount\").getOrCreate()\n",
    "sc = SparkContext.getOrCreate()\n",
    "# Step 1: Input Text\n",
    "text = \"\"\"\n",
    "In a faraway land, there was a peaceful village. The villagers were kind-hearted\n",
    "people who helped one another. They lived simple lives and celebrated every day as\n",
    "if it was a special occasion. But one day, a storm came, and the peace of the\n",
    "village was shattered.\n",
    "\"\"\"\n",
    "# Step 2: Parallelize the data (distribute across the cluster)\n",
    "rdd = sc.parallelize(text.split())\n",
    "# Step 3: Perform the word count in a distributed fashion\n",
    "word_counts = rdd.map(lambda word: (word, 1)) \\\n",
    ".reduceByKey(lambda a, b: a + b)\n",
    "# Step 4: Collect and display results\n",
    "for word, count in word_counts.collect():\n",
    "    print(f\"{word}: {count}\")\n",
    "# Stop the Spark session\n",
    "spark.stop()\n"
   ]
  },
  {
   "cell_type": "code",
   "execution_count": null,
   "metadata": {},
   "outputs": [],
   "source": []
  }
 ],
 "metadata": {
  "kernelspec": {
   "display_name": "Python 3",
   "language": "python",
   "name": "python3"
  },
  "language_info": {
   "codemirror_mode": {
    "name": "ipython",
    "version": 3
   },
   "file_extension": ".py",
   "mimetype": "text/x-python",
   "name": "python",
   "nbconvert_exporter": "python",
   "pygments_lexer": "ipython3",
   "version": "3.7.3"
  }
 },
 "nbformat": 4,
 "nbformat_minor": 2
}
