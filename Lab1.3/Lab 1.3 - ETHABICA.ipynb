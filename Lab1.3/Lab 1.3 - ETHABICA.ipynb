{
 "cells": [
  {
   "cell_type": "markdown",
   "metadata": {},
   "source": [
    "# Test 1 - Plot"
   ]
  },
  {
   "cell_type": "code",
   "execution_count": 2,
   "metadata": {},
   "outputs": [
    {
     "data": {
      "image/png": "[encoded data removed]",
      "text/plain": [
       "<Figure size 432x288 with 1 Axes>"
      ]
     },
     "metadata": {
      "needs_background": "light"
     },
     "output_type": "display_data"
    }
   ],
   "source": [
    "import matplotlib.pyplot as plt\n",
    "# Sample data\n",
    "x = [1, 2, 3, 4, 5]\n",
    "y = [10, 20, 25, 30, 40]\n",
    "# Create a line plot\n",
    "plt.plot(x, y)\n",
    "plt.title('Simple Plot')\n",
    "plt.xlabel('X-axis')\n",
    "plt.ylabel('Y-axis')\n",
    "plt.show()\n"
   ]
  },
  {
   "cell_type": "markdown",
   "metadata": {},
   "source": [
    "# Test 2 - Create a Dataframe"
   ]
  },
  {
   "cell_type": "code",
   "execution_count": 6,
   "metadata": {},
   "outputs": [
    {
     "data": {
      "text/html": [
       "<div>\n",
       "<style scoped>\n",
       "    .dataframe tbody tr th:only-of-type {\n",
       "        vertical-align: middle;\n",
       "    }\n",
       "\n",
       "    .dataframe tbody tr th {\n",
       "        vertical-align: top;\n",
       "    }\n",
       "\n",
       "    .dataframe thead th {\n",
       "        text-align: right;\n",
       "    }\n",
       "</style>\n",
       "<table border=\"1\" class=\"dataframe\">\n",
       "  <thead>\n",
       "    <tr style=\"text-align: right;\">\n",
       "      <th></th>\n",
       "      <th>Name</th>\n",
       "      <th>Age</th>\n",
       "      <th>Location</th>\n",
       "    </tr>\n",
       "  </thead>\n",
       "  <tbody>\n",
       "    <tr>\n",
       "      <th>0</th>\n",
       "      <td>Alice</td>\n",
       "      <td>24</td>\n",
       "      <td>New York</td>\n",
       "    </tr>\n",
       "    <tr>\n",
       "      <th>1</th>\n",
       "      <td>Bob</td>\n",
       "      <td>27</td>\n",
       "      <td>Los Angeles</td>\n",
       "    </tr>\n",
       "    <tr>\n",
       "      <th>2</th>\n",
       "      <td>Charlie</td>\n",
       "      <td>22</td>\n",
       "      <td>Chicago</td>\n",
       "    </tr>\n",
       "  </tbody>\n",
       "</table>\n",
       "</div>"
      ],
      "text/plain": [
       "      Name  Age     Location\n",
       "0    Alice   24     New York\n",
       "1      Bob   27  Los Angeles\n",
       "2  Charlie   22      Chicago"
      ]
     },
     "execution_count": 6,
     "metadata": {},
     "output_type": "execute_result"
    }
   ],
   "source": [
    "# %%timeit \n",
    "\n",
    "import pandas as pd\n",
    "\n",
    "# Create a simple DataFrame\n",
    "data = {'Name': ['Alice', 'Bob', 'Charlie'],\n",
    "        'Age': [24, 27, 22],\n",
    "        'Location': ['New York', 'Los Angeles', 'Chicago']}\n",
    "df = pd.DataFrame(data)\n",
    "\n",
    "# Display the DataFrame\n",
    "df"
   ]
  },
  {
   "cell_type": "markdown",
   "metadata": {},
   "source": [
    "# Test 3 - Word Count (Without MapReduce)"
   ]
  },
  {
   "cell_type": "code",
   "execution_count": 7,
   "metadata": {},
   "outputs": [],
   "source": [
    "from collections import Counter\n",
    "import string\n",
    "import matplotlib.pyplot as plt"
   ]
  },
  {
   "cell_type": "code",
   "execution_count": 10,
   "metadata": {},
   "outputs": [
    {
     "name": "stdout",
     "output_type": "stream",
     "text": [
      "in: 1\n",
      "a: 4\n",
      "faraway: 1\n",
      "land: 1\n",
      "there: 1\n",
      "was: 3\n",
      "peaceful: 1\n",
      "village: 2\n",
      "the: 3\n",
      "villagers: 1\n",
      "were: 1\n",
      "kindhearted: 1\n",
      "people: 1\n",
      "who: 1\n",
      "helped: 1\n",
      "one: 2\n",
      "another: 1\n",
      "they: 1\n",
      "lived: 1\n",
      "simple: 1\n",
      "lives: 1\n",
      "and: 2\n",
      "celebrated: 1\n",
      "every: 1\n",
      "day: 2\n",
      "as: 1\n",
      "if: 1\n",
      "it: 1\n",
      "special: 1\n",
      "occasion: 1\n",
      "but: 1\n",
      "storm: 1\n",
      "came: 1\n",
      "peace: 1\n",
      "of: 1\n",
      "shattered: 1\n"
     ]
    },
    {
     "data": {
      "image/png": "[encoded data removed]",
      "text/plain": [
       "<Figure size 720x432 with 1 Axes>"
      ]
     },
     "metadata": {
      "needs_background": "light"
     },
     "output_type": "display_data"
    }
   ],
   "source": [
    "# %%timeit\n",
    "\n",
    "# Step 1: Input the text (this could be replaced with a file input)\n",
    "text = \"\"\"\n",
    "In a faraway land, there was a peaceful village. The villagers were kind-hearted people who helped one another. They lived simple lives and celebrated every day as if it was a special occasion. But one day, a storm came, and the peace of the village was shattered.\n",
    "\"\"\"\n",
    "\n",
    "# Step 2: Clean the text\n",
    "def clean_text(text):\n",
    "    # Convert to lowercase\n",
    "    text = text.lower()\n",
    "    # Remove punctuation\n",
    "    text = text.translate(str.maketrans('', '', string.punctuation))\n",
    "    return text\n",
    "\n",
    "cleaned_text = clean_text(text)\n",
    "\n",
    "# Step 3: Split the text into words and count them\n",
    "words = cleaned_text.split()\n",
    "word_count = Counter(words)\n",
    "\n",
    "# Step 4: Display the word counts\n",
    "for word, count in word_count.items():\n",
    "    print(f\"{word}: {count}\")\n",
    "\n",
    "# Step 5: Visualize the word counts using a bar chart\n",
    "# Sort by frequency for better visualization\n",
    "most_common_words = word_count.most_common(10)  # Show top 10 words\n",
    "words, counts = zip(*most_common_words)\n",
    "\n",
    "plt.figure(figsize=(10, 6))\n",
    "plt.bar(words, counts, color='skyblue')\n",
    "plt.title('Top 10 Most Common Words')\n",
    "plt.xlabel('Words')\n",
    "plt.ylabel('Counts')\n",
    "plt.xticks(rotation=45)\n",
    "plt.show()"
   ]
  },
  {
   "cell_type": "markdown",
   "metadata": {},
   "source": [
    "# Test 4 - Word Count (with MapReduce)"
   ]
  },
  {
   "cell_type": "code",
   "execution_count": 11,
   "metadata": {},
   "outputs": [],
   "source": [
    "from pyspark import SparkContext\n",
    "from pyspark.sql import SparkSession\n",
    "# Initialize Spark\n",
    "spark = SparkSession.builder.appName(\"WordCount\").getOrCreate()\n",
    "sc = SparkContext.getOrCreate()"
   ]
  },
  {
   "cell_type": "code",
   "execution_count": 12,
   "metadata": {},
   "outputs": [
    {
     "name": "stdout",
     "output_type": "stream",
     "text": [
      "land,: 1\n",
      "there: 1\n",
      "was: 3\n",
      "The: 1\n",
      "villagers: 1\n",
      "kind-hearted: 1\n",
      "another.: 1\n",
      "They: 1\n",
      "lived: 1\n",
      "simple: 1\n",
      "celebrated: 1\n",
      "as: 1\n",
      "occasion.: 1\n",
      "But: 1\n",
      "storm: 1\n",
      "peace: 1\n",
      "of: 1\n",
      "In: 1\n",
      "a: 4\n",
      "faraway: 1\n",
      "peaceful: 1\n",
      "village.: 1\n",
      "were: 1\n",
      "people: 1\n",
      "who: 1\n",
      "helped: 1\n",
      "one: 2\n",
      "lives: 1\n",
      "and: 2\n",
      "every: 1\n",
      "day: 1\n",
      "if: 1\n",
      "it: 1\n",
      "special: 1\n",
      "day,: 1\n",
      "came,: 1\n",
      "the: 2\n",
      "village: 1\n",
      "shattered.: 1\n"
     ]
    }
   ],
   "source": [
    "#%%timeit\n",
    "# Step 1: Input Text\n",
    "text = \"\"\"\n",
    "In a faraway land, there was a peaceful village. The villagers were kind-hearted\n",
    "people who helped one another. They lived simple lives and celebrated every day as\n",
    "if it was a special occasion. But one day, a storm came, and the peace of the\n",
    "village was shattered.\n",
    "\"\"\"\n",
    "# Step 2: Parallelize the data (distribute across the cluster)\n",
    "rdd = sc.parallelize(text.split())\n",
    "# Step 3: Perform the word count in a distributed fashion\n",
    "word_counts = rdd.map(lambda word: (word, 1)) \\\n",
    ".reduceByKey(lambda a, b: a + b)\n",
    "# Step 4: Collect and display results\n",
    "for word, count in word_counts.collect():\n",
    "    print(f\"{word}: {count}\")\n",
    "# Stop the Spark session\n",
    "spark.stop()\n"
   ]
  },
  {
   "cell_type": "markdown",
   "metadata": {},
   "source": [
    "# Test 5 - Sorted Word Count (With MapReduce)"
   ]
  },
  {
   "cell_type": "code",
   "execution_count": 13,
   "metadata": {},
   "outputs": [],
   "source": [
    "# Initialize Spark\n",
    "spark = SparkSession.builder.appName(\"SortedWordCount\").getOrCreate()\n",
    "sc = SparkContext.getOrCreate()"
   ]
  },
  {
   "cell_type": "code",
   "execution_count": 14,
   "metadata": {},
   "outputs": [
    {
     "name": "stdout",
     "output_type": "stream",
     "text": [
      "the: 17\n",
      "a: 8\n",
      "and: 6\n",
      "of: 5\n",
      "The: 4\n",
      "in: 3\n",
      "to: 3\n",
      "through: 2\n",
      "began: 2\n",
      "up: 2\n",
      "sun: 1\n",
      "set: 1\n",
      "mountains,: 1\n",
      "casting: 1\n",
      "valley.: 1\n",
      "She: 1\n",
      "opened: 1\n",
      "book: 1\n",
      "lost: 1\n",
      "world: 1\n",
      "Every: 1\n",
      "he: 1\n",
      "park,: 1\n",
      "enjoying: 1\n",
      "aroma: 1\n",
      "baked: 1\n",
      "bread: 1\n",
      "filled: 1\n",
      "kitchen,: 1\n",
      "making: 1\n",
      "mouth: 1\n",
      "water.: 1\n",
      "storm: 1\n",
      "rolled: 1\n",
      "sky: 1\n",
      "drops: 1\n",
      "rain: 1\n",
      "fall.: 1\n",
      "picked: 1\n",
      "chords,: 1\n",
      "sing: 1\n",
      "danced: 1\n",
      "joyfully: 1\n",
      "rain,: 1\n",
      "puddles: 1\n",
      "long: 1\n",
      "at: 1\n",
      "work,: 1\n",
      "couch: 1\n",
      "cup: 1\n",
      "good: 1\n",
      "vibrant: 1\n",
      "colors: 1\n",
      "leaves: 1\n",
      "created: 1\n",
      "breathtaking: 1\n",
      "tapestry: 1\n",
      "explored: 1\n",
      "ancient: 1\n",
      "ruins,: 1\n",
      "hidden: 1\n",
      "stones.: 1\n",
      "behind: 1\n",
      "golden: 1\n",
      "glow: 1\n",
      "across: 1\n",
      "found: 1\n",
      "herself: 1\n",
      "adventure: 1\n",
      "mystery.: 1\n",
      "morning,: 1\n",
      "jogged: 1\n",
      "fresh: 1\n",
      "air: 1\n",
      "chirping: 1\n",
      "birds.: 1\n",
      "freshly: 1\n",
      "everyone's: 1\n",
      "As: 1\n",
      "in,: 1\n",
      "darkened,: 1\n",
      "first: 1\n",
      "He: 1\n",
      "guitar,: 1\n",
      "strummed: 1\n",
      "few: 1\n",
      "softly: 1\n",
      "himself.: 1\n",
      "little: 1\n",
      "girl: 1\n",
      "splashing: 1\n",
      "without: 1\n",
      "care.: 1\n",
      "After: 1\n",
      "day: 1\n",
      "she: 1\n",
      "curled: 1\n",
      "on: 1\n",
      "with: 1\n",
      "tea: 1\n",
      "movie.: 1\n",
      "autumn: 1\n",
      "park.: 1\n",
      "Together,: 1\n",
      "they: 1\n",
      "imagining: 1\n",
      "stories: 1\n",
      "within: 1\n"
     ]
    }
   ],
   "source": [
    "# Step 1: Input Sentences - Sentences generated with Chat GPT\n",
    "sentences = [\n",
    "    \"The sun set behind the mountains, casting a golden glow across the valley.\",\n",
    "    \"She opened the book and found herself lost in a world of adventure and mystery.\",\n",
    "    \"Every morning, he jogged through the park, enjoying the fresh air and chirping birds.\",\n",
    "    \"The aroma of freshly baked bread filled the kitchen, making everyone's mouth water.\",\n",
    "    \"As the storm rolled in, the sky darkened, and the first drops of rain began to fall.\",\n",
    "    \"He picked up the guitar, strummed a few chords, and began to sing softly to himself.\",\n",
    "    \"The little girl danced joyfully in the rain, splashing through puddles without a care.\",\n",
    "    \"After a long day at work, she curled up on the couch with a cup of tea and a good movie.\",\n",
    "    \"The vibrant colors of the autumn leaves created a breathtaking tapestry in the park.\",\n",
    "    \"Together, they explored the ancient ruins, imagining the stories hidden within the stones.\"\n",
    "]\n",
    "# Step 2: Parallelize the data (distribute across the cluster)\n",
    "rdd = sc.parallelize(sentences)\n",
    "# Step 3: Split sentences to words\n",
    "words_rdd = rdd.flatMap(lambda sentence: sentence.split())\n",
    "# Step 4: Perform the word count in a distributed fashion\n",
    "word_counts = words_rdd.map(lambda word: (word, 1)) \\\n",
    ".reduceByKey(lambda a, b: a + b)\n",
    "# Step 5: Sort the Word Counts in descending order\n",
    "sorted_word_counts = word_counts.sortBy(lambda x:x[1], ascending=False)\n",
    "# Step 6: Collect and display results\n",
    "for word, count in sorted_word_counts.collect():\n",
    "    print(f\"{word}: {count}\")\n",
    "# Stop the Spark session\n",
    "spark.stop()\n"
   ]
  },
  {
   "cell_type": "markdown",
   "metadata": {},
   "source": [
    "# Test 6 - Calculating Average Tree Lengths (Using Parallelize)"
   ]
  },
  {
   "cell_type": "code",
   "execution_count": 16,
   "metadata": {},
   "outputs": [],
   "source": [
    "# Initialize Spark\n",
    "spark = SparkSession.builder.appName(\"AverageTreeLengths\").getOrCreate()\n",
    "sc = SparkContext.getOrCreate()"
   ]
  },
  {
   "cell_type": "code",
   "execution_count": 18,
   "metadata": {},
   "outputs": [
    {
     "name": "stdout",
     "output_type": "stream",
     "text": [
      "Tree Type: Birch, Average Length (m): 26.00m\n",
      "Tree Type: Oak, Average Length (m): 12.50m\n",
      "Tree Type: Pine, Average Length (m): 21.50m\n",
      "Tree Type: Maple, Average Length (m): 16.33m\n",
      "Tree Type: Cedar, Average Length (m): 31.00m\n",
      "Tree Type: Fir, Average Length (m): 29.00m\n"
     ]
    }
   ],
   "source": [
    "# Step 1: Input Data - Tree data generated with Chat GPT\n",
    "data = { \n",
    "    'Tree Type': ['Oak', 'Pine', 'Maple', 'Oak', 'Pine', 'Maple', 'Oak', 'Pine', 'Maple', 'Birch', 'Cedar', 'Fir', 'Birch', 'Cedar', 'Fir', 'Birch', 'Cedar', 'Fir', 'Oak', 'Pine', 'Maple', 'Oak', 'Pine', 'Maple', 'Oak', 'Pine', 'Maple'], \n",
    "    'Length (m)': [10, 20, 15, 12, 22, 18, 14, 21, 16, 25, 30, 28, 26, 31, 29, 27, 32, 30, 11, 19, 14, 13, 23, 17, 15, 24, 18] \n",
    "}\n",
    "\n",
    "# Step 2: Convert Dictionary to list and create Dataframe\n",
    "data = list(zip(data['Tree Type'], data['Length (m)']))\n",
    "columns = ['Tree Type', 'Length (m)']\n",
    "df = spark.createDataFrame(data, columns)\n",
    "\n",
    "\n",
    "# Step 2: Convert to rdd\n",
    "rdd_df = df.select('Tree Type', 'Length (m)').rdd\n",
    "\n",
    "# Step 3: Parallelize the data across clusters\n",
    "rdd_parallelized = sc.parallelize(rdd_df.collect())\n",
    "\n",
    "# Step 4: Calculate Averages on RDD\n",
    "treetype_length_pairs = rdd_parallelized.map(lambda x: (x['Tree Type'], (x['Length (m)'], 1)))\n",
    "tree_sum_count = treetype_length_pairs.reduceByKey(lambda a, b: (a[0] + b[0], a[1] + b[1]))\n",
    "avg_length = tree_sum_count.mapValues(lambda v: v[0] / v[1])\n",
    "\n",
    "# Step 5: Collect and Print Results\n",
    "result = avg_length.collect()\n",
    "for tree_type, avg_length in result:\n",
    "    print(f\"Tree Type: {tree_type}, Average Length (m): {avg_length:.2f}m\")"
   ]
  }
 ],
 "metadata": {
  "kernelspec": {
   "display_name": "Python 3",
   "language": "python",
   "name": "python3"
  },
  "language_info": {
   "codemirror_mode": {
    "name": "ipython",
    "version": 3
   },
   "file_extension": ".py",
   "mimetype": "text/x-python",
   "name": "python",
   "nbconvert_exporter": "python",
   "pygments_lexer": "ipython3",
   "version": "3.7.3"
  }
 },
 "nbformat": 4,
 "nbformat_minor": 2
}